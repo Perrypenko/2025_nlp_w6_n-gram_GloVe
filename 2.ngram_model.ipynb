{
 "cells": [
  {
   "cell_type": "markdown",
   "metadata": {},
   "source": [
    "# 2. n-gram 기반 통계 언어 모델 구현\n",
    "\n",
    "이 노트북에서는 n-gram 모델을 구현하여 통계적 언어 모델의 기본 원리를 학습합니다.\n",
    "\n",
    "## 학습 목표\n",
    "- n-gram 모델의 수학적 원리 이해하기\n",
    "- 동시출현 행렬(co-occurrence matrix) 구축하기\n",
    "- 조건부 확률 $P(w_i | w_{i-1})$ 계산하기\n",
    "- 손실 함수(Negative Log Likelihood) 구현하고 평가하기"
   ]
  },
  {
   "cell_type": "code",
   "execution_count": 7,
   "metadata": {},
   "outputs": [],
   "source": [
    "import numpy as np\n",
    "import pandas as pd\n",
    "import matplotlib.pyplot as plt\n",
    "import pickle\n",
    "from collections import defaultdict, Counter\n",
    "import math\n",
    "\n",
    "# 시각화 설정\n",
    "plt.style.use('ggplot')\n",
    "%matplotlib inline"
   ]
  },
  {
   "cell_type": "markdown",
   "metadata": {},
   "source": [
    "## 2.1 전처리 결과 불러오기\n",
    "\n",
    "이전 노트북에서 저장한 전처리 결과를 불러옵니다."
   ]
  },
  {
   "cell_type": "code",
   "execution_count": 8,
   "metadata": {},
   "outputs": [
    {
     "name": "stdout",
     "output_type": "stream",
     "text": [
      "전처리 결과를 성공적으로 불러왔습니다.\n",
      "어휘 사전 크기: 59 단어\n",
      "문장 수: 10\n"
     ]
    }
   ],
   "source": [
    "# 전처리 결과 불러오기\n",
    "try:\n",
    "    with open('preprocessing_results.pkl', 'rb') as f:\n",
    "        preprocessing_results = pickle.load(f)\n",
    "    \n",
    "    tokenized_corpus = preprocessing_results['tokenized_corpus']\n",
    "    word_to_id = preprocessing_results['word_to_id']\n",
    "    id_to_word = preprocessing_results['id_to_word']\n",
    "    word_counts = preprocessing_results['word_counts']\n",
    "    \n",
    "    print(\"전처리 결과를 성공적으로 불러왔습니다.\")\n",
    "    print(f\"어휘 사전 크기: {len(word_to_id)} 단어\")\n",
    "    print(f\"문장 수: {len(tokenized_corpus)}\")\n",
    "except FileNotFoundError:\n",
    "    print(\"전처리 결과 파일을 찾을 수 없습니다. 먼저 '1_corpus_preprocessing.ipynb'를 실행해주세요.\")"
   ]
  },
  {
   "cell_type": "markdown",
   "metadata": {},
   "source": [
    "## 2.2 n-gram 추출 함수 구현\n",
    "\n",
    "텍스트에서 n-gram을 추출하는 함수를 구현합니다. n-gram은 연속된 n개의 단어 시퀀스를 의미합니다."
   ]
  },
  {
   "cell_type": "code",
   "execution_count": 9,
   "metadata": {},
   "outputs": [
    {
     "name": "stdout",
     "output_type": "stream",
     "text": [
      "추출된 bigram 수: 60\n",
      "추출된 trigram 수: 50\n",
      "\n",
      "샘플 bigram 5개:\n",
      "('자연어', '처리는')\n",
      "('처리는', '컴퓨터가')\n",
      "('컴퓨터가', '인간의')\n",
      "('인간의', '언어를')\n",
      "('언어를', '이해하고')\n"
     ]
    }
   ],
   "source": [
    "def extract_ngrams(sentences, n=2):\n",
    "    \"\"\"문장들에서 n-gram을 추출하는 함수\n",
    "    \n",
    "    Args:\n",
    "        sentences: 토큰화된 문장 목록\n",
    "        n: n-gram의 n (기본값: 2, 즉 bigram)\n",
    "        \n",
    "    Returns:\n",
    "        추출된 n-gram 목록\n",
    "    \"\"\"\n",
    "    all_ngrams = []\n",
    "    \n",
    "    for sentence in sentences:\n",
    "        # 문장의 길이가 n보다 작으면 n-gram을 추출할 수 없음\n",
    "        if len(sentence) < n:\n",
    "            continue\n",
    "            \n",
    "        # n-gram 추출\n",
    "        sentence_ngrams = [tuple(sentence[i:i+n]) for i in range(len(sentence) - n + 1)]\n",
    "        all_ngrams.extend(sentence_ngrams)\n",
    "    \n",
    "    return all_ngrams\n",
    "\n",
    "# bigram (n=2) 추출 예시\n",
    "bigrams = extract_ngrams(tokenized_corpus, n=2)\n",
    "# trigram (n=3) 추출 예시\n",
    "trigrams = extract_ngrams(tokenized_corpus, n=3)\n",
    "\n",
    "print(f\"추출된 bigram 수: {len(bigrams)}\")\n",
    "print(f\"추출된 trigram 수: {len(trigrams)}\")\n",
    "print(\"\\n샘플 bigram 5개:\")\n",
    "for bigram in bigrams[:5]:\n",
    "    print(bigram)"
   ]
  },
  {
   "cell_type": "code",
   "execution_count": 10,
   "metadata": {},
   "outputs": [
    {
     "name": "stdout",
     "output_type": "stream",
     "text": [
      "\n",
      "샘플 trigram 5개:\n",
      "('자연어', '처리는', '컴퓨터가')\n",
      "('처리는', '컴퓨터가', '인간의')\n",
      "('컴퓨터가', '인간의', '언어를')\n",
      "('인간의', '언어를', '이해하고')\n",
      "('언어를', '이해하고', '처리하는')\n"
     ]
    }
   ],
   "source": [
    "\n",
    "print(\"\\n샘플 trigram 5개:\")\n",
    "for trigram in trigrams[:5]:\n",
    "    print(trigram)"
   ]
  },
  {
   "cell_type": "markdown",
   "metadata": {},
   "source": [
    "## 2.3 동시출현 행렬(Co-occurrence Matrix) 구축\n",
    "\n",
    "bigram에 대한 동시출현 행렬을 구축합니다. 이 행렬은 단어 쌍 $(w_{i-1}, w_i)$의 출현 빈도를 나타냅니다."
   ]
  },
  {
   "cell_type": "code",
   "execution_count": 11,
   "metadata": {},
   "outputs": [
    {
     "name": "stdout",
     "output_type": "stream",
     "text": [
      "동시출현 행렬 크기: (59, 59)\n",
      "총 동시출현 빈도: 60\n",
      "0이 아닌 원소 수: 58\n"
     ]
    }
   ],
   "source": [
    "def build_cooccurrence_matrix(ngrams, vocab_size, word_to_id):\n",
    "    \"\"\"n-gram에서 동시출현 행렬을 구축하는 함수\n",
    "    \n",
    "    Args:\n",
    "        ngrams: n-gram 목록\n",
    "        vocab_size: 어휘 사전 크기\n",
    "        word_to_id: 단어-ID 매핑 딕셔너리\n",
    "        \n",
    "    Returns:\n",
    "        동시출현 행렬 (numpy array)\n",
    "    \"\"\"\n",
    "    # 동시출현 행렬 초기화 (모든 원소가 0인 행렬)\n",
    "    cooccurrence_matrix = np.zeros((vocab_size, vocab_size), dtype=np.int32)\n",
    "    \n",
    "    # n-gram에서 동시출현 빈도 계산\n",
    "    for ngram in ngrams:\n",
    "        # 첫 번째 단어는 행 인덱스, 두 번째 단어는 열 인덱스\n",
    "        # bigram일 경우 (w_{i-1}, w_i)\n",
    "        prev_word, curr_word = ngram[0], ngram[1]\n",
    "        prev_id, curr_id = word_to_id[prev_word], word_to_id[curr_word]\n",
    "        \n",
    "        # 해당 단어 쌍의 동시출현 빈도 증가\n",
    "        cooccurrence_matrix[prev_id, curr_id] += 1\n",
    "    \n",
    "    return cooccurrence_matrix\n",
    "\n",
    "# bigram에 대한 동시출현 행렬 구축\n",
    "vocab_size = len(word_to_id)\n",
    "cooccurrence_matrix = build_cooccurrence_matrix(bigrams, vocab_size, word_to_id)\n",
    "\n",
    "print(f\"동시출현 행렬 크기: {cooccurrence_matrix.shape}\")\n",
    "print(f\"총 동시출현 빈도: {cooccurrence_matrix.sum()}\")\n",
    "print(f\"0이 아닌 원소 수: {np.count_nonzero(cooccurrence_matrix)}\")"
   ]
  },
  {
   "cell_type": "markdown",
   "metadata": {},
   "source": [
    "## 2.4 조건부 확률 $P(w_i | w_{i-1})$ 계산\n",
    "\n",
    "동시출현 행렬을 사용하여 조건부 확률 $P(w_i | w_{i-1})$을 계산합니다. 이는 이전 단어 $w_{i-1}$이 주어졌을 때 현재 단어 $w_i$가 나타날 확률입니다.\n",
    "\n",
    "$$P(w_i | w_{i-1}) = \\frac{C(w_{i-1}, w_i)}{C(w_{i-1})}$$\n",
    "\n",
    "여기서 $C(w_{i-1}, w_i)$는 단어 쌍 $(w_{i-1}, w_i)$의 출현 빈도이고, $C(w_{i-1})$은 단어 $w_{i-1}$의 출현 빈도입니다."
   ]
  },
  {
   "cell_type": "code",
   "execution_count": 12,
   "metadata": {},
   "outputs": [
    {
     "name": "stdout",
     "output_type": "stream",
     "text": [
      "조건부 확률 행렬 크기: (59, 59)\n",
      "각 행의 합이 1인지 확인 (0이 아닌 행만): True\n"
     ]
    }
   ],
   "source": [
    "def calculate_conditional_probabilities(cooccurrence_matrix, vocab_size):\n",
    "    \"\"\"동시출현 행렬에서 조건부 확률 P(w_i | w_{i-1})을 계산하는 함수 (Laplace Smoothing 적용)\n",
    "    \n",
    "    Args:\n",
    "        cooccurrence_matrix: 동시출현 행렬 (numpy array)\n",
    "        vocab_size: 어휘 크기 V\n",
    "        \n",
    "    Returns:\n",
    "        조건부 확률 행렬\n",
    "    \"\"\"\n",
    "    # 기존: smoothing 없이 계산\n",
    "    # 각 행의 합 계산 (각 단어 w_{i-1}의 출현 빈도)\n",
    "    # row_sums = cooccurrence_matrix.sum(axis=1, keepdims=True)\n",
    "    # 0으로 나누는 것을 방지하기 위해 0인 경우 1로 변경\n",
    "    # row_sums[row_sums == 0] = 1\n",
    "    # 조건부 확률 계산: P(w_i | w_{i-1}) = C(w_{i-1}, w_i) / C(w_{i-1})\n",
    "    # conditional_probabilities = cooccurrence_matrix / row_sums\n",
    "\n",
    "    # Laplace Smoothing 적용\n",
    "    smoothed_matrix = cooccurrence_matrix + 1\n",
    "    row_sums = smoothed_matrix.sum(axis=1, keepdims=True)  # 각 행 합 + V가 반영됨\n",
    "    conditional_probabilities = smoothed_matrix / row_sums\n",
    "\n",
    "    return conditional_probabilities\n",
    "\n",
    "\n",
    "# 조건부 확률 계산\n",
    "conditional_probabilities = calculate_conditional_probabilities(cooccurrence_matrix, vocab_size)\n",
    "\n",
    "print(f\"조건부 확률 행렬 크기: {conditional_probabilities.shape}\")\n",
    "# 0이 아닌 행(단어가 최소 한 번 이상 등장한 경우)의 합은 1이어야 함\n",
    "non_zero_rows = cooccurrence_matrix.sum(axis=1) > 0\n",
    "print(f\"각 행의 합이 1인지 확인 (0이 아닌 행만): {np.allclose(conditional_probabilities[non_zero_rows].sum(axis=1), 1.0, rtol=1e-10)}\")"
   ]
  },
  {
   "cell_type": "markdown",
   "metadata": {},
   "source": [
    "## 2.5 조건부 확률 시각화\n",
    "\n",
    "특정 단어들에 대한 조건부 확률을 시각화합니다."
   ]
  },
  {
   "cell_type": "code",
   "execution_count": 13,
   "metadata": {},
   "outputs": [
    {
     "name": "stdout",
     "output_type": "stream",
     "text": [
      "Requirement already satisfied: koreanize_matplotlib in /Users/martin/.asdf/installs/python/3.10.15/lib/python3.10/site-packages (0.1.1)\n",
      "Requirement already satisfied: matplotlib in /Users/martin/.asdf/installs/python/3.10.15/lib/python3.10/site-packages (from koreanize_matplotlib) (3.10.1)\n",
      "Requirement already satisfied: cycler>=0.10 in /Users/martin/.asdf/installs/python/3.10.15/lib/python3.10/site-packages (from matplotlib->koreanize_matplotlib) (0.12.1)\n",
      "Requirement already satisfied: fonttools>=4.22.0 in /Users/martin/.asdf/installs/python/3.10.15/lib/python3.10/site-packages (from matplotlib->koreanize_matplotlib) (4.57.0)\n",
      "Requirement already satisfied: python-dateutil>=2.7 in /Users/martin/.asdf/installs/python/3.10.15/lib/python3.10/site-packages (from matplotlib->koreanize_matplotlib) (2.9.0.post0)\n",
      "Requirement already satisfied: pillow>=8 in /Users/martin/.asdf/installs/python/3.10.15/lib/python3.10/site-packages (from matplotlib->koreanize_matplotlib) (10.4.0)\n",
      "Requirement already satisfied: packaging>=20.0 in /Users/martin/.asdf/installs/python/3.10.15/lib/python3.10/site-packages (from matplotlib->koreanize_matplotlib) (24.2)\n",
      "Requirement already satisfied: pyparsing>=2.3.1 in /Users/martin/.asdf/installs/python/3.10.15/lib/python3.10/site-packages (from matplotlib->koreanize_matplotlib) (3.2.3)\n",
      "Requirement already satisfied: numpy>=1.23 in /Users/martin/.asdf/installs/python/3.10.15/lib/python3.10/site-packages (from matplotlib->koreanize_matplotlib) (2.2.4)\n",
      "Requirement already satisfied: contourpy>=1.0.1 in /Users/martin/.asdf/installs/python/3.10.15/lib/python3.10/site-packages (from matplotlib->koreanize_matplotlib) (1.3.1)\n",
      "Requirement already satisfied: kiwisolver>=1.3.1 in /Users/martin/.asdf/installs/python/3.10.15/lib/python3.10/site-packages (from matplotlib->koreanize_matplotlib) (1.4.8)\n",
      "Requirement already satisfied: six>=1.5 in /Users/martin/.asdf/installs/python/3.10.15/lib/python3.10/site-packages (from python-dateutil>=2.7->matplotlib->koreanize_matplotlib) (1.17.0)\n",
      "\u001b[33mWARNING: There was an error checking the latest version of pip.\u001b[0m\u001b[33m\n",
      "\u001b[0m"
     ]
    }
   ],
   "source": [
    "!pip install koreanize_matplotlib\n",
    "import koreanize_matplotlib\n"
   ]
  },
  {
   "cell_type": "code",
   "execution_count": 20,
   "metadata": {},
   "outputs": [
    {
     "name": "stdout",
     "output_type": "stream",
     "text": [
      "단어 '상위'를 어휘 사전에서 찾을 수 없습니다.\n"
     ]
    },
    {
     "data": {
      "image/png": "[encoded data removed]",
      "text/plain": [
       "<Figure size 1000x400 with 1 Axes>"
      ]
     },
     "metadata": {},
     "output_type": "display_data"
    },
    {
     "name": "stdout",
     "output_type": "stream",
     "text": [
      "단어 '상위'를 어휘 사전에서 찾을 수 없습니다.\n",
      "\n",
      "[로그 확률 출력: P(w_i | 상위)]\n",
      "log(P(자연어 | 상위)) = -4.07753744390572\n",
      "log(P(처리는 | 상위)) = -4.07753744390572\n",
      "log(P(기술입니다 | 상위)) = -4.07753744390572\n",
      "log(P(처리의 | 상위)) = -4.07753744390572\n",
      "log(P(모델은 | 상위)) = -4.07753744390572\n",
      "log(P(워드 | 상위)) = -4.07753744390572\n",
      "log(P(단어를 | 상위)) = -4.07753744390572\n",
      "log(P(컴퓨터가 | 상위)) = -4.07753744390572\n",
      "log(P(인간의 | 상위)) = -4.07753744390572\n",
      "log(P(언어를 | 상위)) = -4.07753744390572\n",
      "log(P(이해하고 | 상위)) = -4.07753744390572\n",
      "log(P(처리하는 | 상위)) = -4.07753744390572\n",
      "log(P(컴퓨터는 | 상위)) = -4.07753744390572\n",
      "log(P(처리를 | 상위)) = -4.07753744390572\n",
      "log(P(통해 | 상위)) = -4.07753744390572\n",
      "log(P(텍스트를 | 상위)) = -4.07753744390572\n",
      "log(P(분석하고 | 상위)) = -4.07753744390572\n",
      "log(P(의미를 | 상위)) = -4.07753744390572\n",
      "log(P(추출합니다 | 상위)) = -4.07753744390572\n",
      "log(P(인공지능과 | 상위)) = -4.07753744390572\n",
      "log(P(기계학습은 | 상위)) = -4.07753744390572\n",
      "log(P(핵심 | 상위)) = -4.07753744390572\n",
      "log(P(딥러닝 | 상위)) = -4.07753744390572\n",
      "log(P(처리 | 상위)) = -4.07753744390572\n",
      "log(P(성능을 | 상위)) = -4.07753744390572\n",
      "log(P(크게 | 상위)) = -4.07753744390572\n",
      "log(P(향상시켰습니다 | 상위)) = -4.07753744390572\n",
      "log(P(임베딩은 | 상위)) = -4.07753744390572\n",
      "log(P(벡터 | 상위)) = -4.07753744390572\n",
      "log(P(공간에 | 상위)) = -4.07753744390572\n",
      "log(P(표현하는 | 상위)) = -4.07753744390572\n",
      "log(P(방법입니다 | 상위)) = -4.07753744390572\n",
      "log(P(GloVe와 | 상위)) = -4.07753744390572\n",
      "log(P(Word2Vec은 | 상위)) = -4.07753744390572\n",
      "log(P(대표적인 | 상위)) = -4.07753744390572\n",
      "log(P(임베딩 | 상위)) = -4.07753744390572\n",
      "log(P(알고리즘입니다 | 상위)) = -4.07753744390572\n",
      "log(P(언어 | 상위)) = -4.07753744390572\n",
      "log(P(다음 | 상위)) = -4.07753744390572\n",
      "log(P(예측하는 | 상위)) = -4.07753744390572\n",
      "log(P(모델입니다 | 상위)) = -4.07753744390572\n",
      "log(P(ngram은 | 상위)) = -4.07753744390572\n",
      "log(P(연속된 | 상위)) = -4.07753744390572\n",
      "log(P(n개의 | 상위)) = -4.07753744390572\n",
      "log(P(단어 | 상위)) = -4.07753744390572\n",
      "log(P(시퀀스를 | 상위)) = -4.07753744390572\n",
      "log(P(의미합니다 | 상위)) = -4.07753744390572\n",
      "log(P(기계 | 상위)) = -4.07753744390572\n",
      "log(P(번역 | 상위)) = -4.07753744390572\n",
      "log(P(감성 | 상위)) = -4.07753744390572\n",
      "log(P(분석 | 상위)) = -4.07753744390572\n",
      "log(P(정보 | 상위)) = -4.07753744390572\n",
      "log(P(추출 | 상위)) = -4.07753744390572\n",
      "log(P(등에 | 상위)) = -4.07753744390572\n",
      "log(P(활용됩니다 | 상위)) = -4.07753744390572\n",
      "log(P(텍스트 | 상위)) = -4.07753744390572\n",
      "log(P(전처리는 | 상위)) = -4.07753744390572\n",
      "log(P(첫 | 상위)) = -4.07753744390572\n",
      "log(P(단계입니다 | 상위)) = -4.07753744390572\n",
      "Next Word (w_i)  P(w_i | w_{i-1}='상위')\n",
      "          단계입니다               0.016949\n",
      "             통해               0.016949\n",
      "        향상시켰습니다               0.016949\n",
      "             크게               0.016949\n",
      "            성능을               0.016949\n"
     ]
    }
   ],
   "source": [
    "def visualize_conditional_probabilities(conditional_probabilities, id_to_word, prev_words, top_n=5):\n",
    "    \"\"\"특정 단어들에 대한 조건부 확률을 시각화하는 함수\n",
    "    \n",
    "    Args:\n",
    "        conditional_probabilities: 조건부 확률 행렬\n",
    "        id_to_word: ID-단어 매핑 딕셔너리\n",
    "        prev_words: 이전 단어 목록\n",
    "        top_n: 상위 몇 개의 확률을 표시할지 결정\n",
    "    \"\"\"\n",
    "    fig, axes = plt.subplots(len(prev_words), 1, figsize=(10, 4 * len(prev_words)))\n",
    "    if len(prev_words) == 1:\n",
    "        axes = [axes]\n",
    "    \n",
    "    for i, prev_word in enumerate(prev_words):\n",
    "        # 이전 단어의 ID\n",
    "        try:\n",
    "            prev_id = word_to_id[prev_word]\n",
    "        except KeyError:\n",
    "            print(f\"단어 '{prev_word}'를 어휘 사전에서 찾을 수 없습니다.\")\n",
    "            # continue\n",
    "            prev_id = 999\n",
    "            prev_word = \"UNK\"\n",
    "        if( prev_id == 999):\n",
    "            probs = np.zeros(shape=(len(word_to_id),))\n",
    "        else:\n",
    "            probs = conditional_probabilities[prev_id]\n",
    "        # 해당 단어의 조건부 확률 행 추출\n",
    "        # probs = conditional_probabilities[prev_id]\n",
    "        \n",
    "        # 확률이 높은 상위 top_n개 단어 선택\n",
    "        top_indices = np.argsort(probs)[-top_n:][::-1]\n",
    "        top_probs = probs[top_indices]\n",
    "        top_words = [id_to_word[idx] for idx in top_indices]\n",
    "        \n",
    "        # 시각화\n",
    "        axes[i].barh(top_words, top_probs)\n",
    "        axes[i].set_title(f\"P(w_i | w_{{i-1}}='{prev_word}')\", fontsize=14)\n",
    "        axes[i].set_xlabel('확률', fontsize=12)\n",
    "        axes[i].set_ylabel('다음 단어 (w_i)', fontsize=12)\n",
    "        axes[i].invert_yaxis()  # 확률이 높은 단어를 위쪽에 표시\n",
    "    \n",
    "    plt.tight_layout()\n",
    "    plt.show()\n",
    "\n",
    "# 특정 단어들에 대한 조건부 확률 시각화\n",
    "# 가장 빈도가 높은 단어들 중 일부 선택\n",
    "most_common_words = [word for word, _ in word_counts.most_common(5)]\n",
    "# visualize_conditional_probabilities(conditional_probabilities, id_to_word, most_common_words)\n",
    "most_common_words = [\"상위\"] # 학습에 사용되지 않은 단어로 대체\n",
    "visualize_conditional_probabilities(conditional_probabilities, id_to_word, most_common_words)\n",
    "\n",
    "# 결과를 pandas DataFrame으로 변환하여 테이블 형태로 확인\n",
    "def display_conditional_probability_table(conditional_probabilities, word_to_id, id_to_word, prev_word, top_n=5):\n",
    "    \"\"\"특정 단어에 대한 조건부 확률을 테이블 형태로 표시하는 함수\"\"\"    \n",
    "    try:\n",
    "        prev_id = word_to_id[prev_word]\n",
    "    except KeyError:\n",
    "        print(f\"단어 '{prev_word}'를 어휘 사전에서 찾을 수 없습니다.\")\n",
    "        # return None\n",
    "        prev_id = 999 # 대체 ID\n",
    "    \n",
    "    if( prev_id == 999):\n",
    "        probs = np.ones(shape=(len(word_to_id),))  # 먼저 1로 채우고\n",
    "        probs = probs / np.sum(probs)              # 그걸 정규화해서 확률 분포로 만듦\n",
    "    else:\n",
    "        probs = conditional_probabilities[prev_id]\n",
    "    top_indices = np.argsort(probs)[-top_n:][::-1]\n",
    "    top_probs = probs[top_indices]\n",
    "    top_words = [id_to_word[idx] for idx in top_indices]\n",
    "    \n",
    "    # DataFrame 생성\n",
    "    df = pd.DataFrame({\n",
    "        'Next Word (w_i)': top_words,\n",
    "        f'P(w_i | w_{{i-1}}=\\'{prev_word}\\')': top_probs\n",
    "    })\n",
    "\n",
    "    # log 확률 시도 (삽질 유도)\n",
    "    print(f\"\\n[로그 확률 출력: P(w_i | {prev_word})]\")\n",
    "    for idx, prob in enumerate(probs):\n",
    "        try:\n",
    "            logp = np.log(prob)\n",
    "        except:\n",
    "            logp = float('-inf')\n",
    "        print(f\"log(P({id_to_word[idx]} | {prev_word})) = {logp}\")\n",
    "    \n",
    "    return df\n",
    "\n",
    "# 예시: 첫 번째 단어에 대한 조건부 확률 테이블\n",
    "example_word = most_common_words[0]\n",
    "cond_prob_table = display_conditional_probability_table(conditional_probabilities, word_to_id, id_to_word, example_word)\n",
    "if cond_prob_table is not None:\n",
    "    print(cond_prob_table.to_string(index=False))"
   ]
  },
  {
   "cell_type": "markdown",
   "metadata": {},
   "source": [
    "## 2.6 Negative Log Likelihood Loss 구현\n",
    "\n",
    "n-gram 모델의 성능을 평가하기 위해 Negative Log Likelihood (NLL) 손실 함수를 구현합니다. \n",
    "\n",
    "언어 모델의 목표는 주어진 문장의 확률을 최대화하는 것입니다. 문장의 확률은 각 단어의 조건부 확률의 곱으로 계산할 수 있습니다.\n",
    "\n",
    "$$P(w_1, w_2, \\ldots, w_n) = \\prod_{i=1}^{n} P(w_i | w_{i-1})$$\n",
    "\n",
    "수치적 안정성을 위해 로그 확률을 사용하며, 손실 함수는 음의 로그 확률(Negative Log Likelihood)로 정의됩니다.\n",
    "\n",
    "$$\\text{NLL} = -\\sum_{i=1}^{n} \\log P(w_i | w_{i-1})$$\n",
    "\n",
    "NLL이 낮을수록 모델의 성능이 좋다는 것을 의미합니다."
   ]
  },
  {
   "cell_type": "code",
   "execution_count": 15,
   "metadata": {},
   "outputs": [
    {
     "name": "stdout",
     "output_type": "stream",
     "text": [
      "문장별 Negative Log Likelihood:\n",
      "문장 1: 자연어 처리는 컴퓨터가 인간의 언어를 이해하고 처리하는 기술입니다, NLL = 23.4995\n",
      "문장 2: 기술입니다 처리하는 이해하고 언어를 인간의 컴퓨터가 처리는 자연어, NLL = 28.6601\n",
      "문장 3: 자연어 처리 기술, NLL = 13.4812\n",
      "문장 4: 인공지능 기술 발전, NLL = 20.0000\n"
     ]
    }
   ],
   "source": [
    "def calculate_nll(sentence, conditional_probabilities, word_to_id):\n",
    "    \"\"\"주어진 문장에 대한 Negative Log Likelihood를 계산하는 함수\n",
    "    \n",
    "    Args:\n",
    "        sentence: 토큰화된 문장\n",
    "        conditional_probabilities: 조건부 확률 행렬\n",
    "        word_to_id: 단어-ID 매핑 딕셔너리\n",
    "        \n",
    "    Returns:\n",
    "        NLL 값\n",
    "    \"\"\"\n",
    "    if len(sentence) < 2:\n",
    "        return float('inf')  # 문장이 너무 짧으면 bigram을 추출할 수 없음\n",
    "    \n",
    "    nll = 0.0\n",
    "    for i in range(1, len(sentence)):\n",
    "        prev_word, curr_word = sentence[i-1], sentence[i]\n",
    "        \n",
    "        # 단어가 어휘 사전에 없는 경우 처리\n",
    "        if prev_word not in word_to_id or curr_word not in word_to_id:\n",
    "            nll += 10.0  # 큰 패널티 부여\n",
    "            continue\n",
    "        \n",
    "        prev_id, curr_id = word_to_id[prev_word], word_to_id[curr_word]\n",
    "        prob = conditional_probabilities[prev_id, curr_id]\n",
    "        \n",
    "        # 확률이 0인 경우 처리 (smoothing)\n",
    "        if prob == 0:\n",
    "            nll += 10.0  # 큰 패널티 부여\n",
    "        else:\n",
    "            nll += -np.log(prob)\n",
    "    \n",
    "    return nll\n",
    "\n",
    "# 예시 문장들에 대한 NLL 계산\n",
    "example_sentences = [\n",
    "    tokenized_corpus[0],  # 실제 말뭉치에서 첫 번째 문장\n",
    "    tokenized_corpus[0][::-1],  # 첫 번째 문장을 역순으로 배열 (이상한 문장)\n",
    "    ['자연어', '처리', '기술'],  # 간단한 문장\n",
    "    ['인공지능', '기술', '발전']  # 다른 간단한 문장\n",
    "]\n",
    "\n",
    "print(\"문장별 Negative Log Likelihood:\")\n",
    "for i, sentence in enumerate(example_sentences):\n",
    "    nll = calculate_nll(sentence, conditional_probabilities, word_to_id)\n",
    "    print(f\"문장 {i+1}: {' '.join(sentence)}, NLL = {nll:.4f}\")"
   ]
  },
  {
   "cell_type": "markdown",
   "metadata": {},
   "source": [
    "## 2.7 다음 단어 예측 함수 구현\n",
    "\n",
    "n-gram 모델을 사용하여 주어진 단어 다음에 올 가능성이 높은 단어를 예측하는 함수를 구현합니다."
   ]
  },
  {
   "cell_type": "code",
   "execution_count": 16,
   "metadata": {},
   "outputs": [
    {
     "name": "stdout",
     "output_type": "stream",
     "text": [
      "단어 '상위'를 어휘 사전에서 찾을 수 없습니다.\n",
      "\n",
      "'상위' 다음에 올 가능성이 높은 단어:\n"
     ]
    }
   ],
   "source": [
    "def predict_next_word(prev_word, conditional_probabilities, word_to_id, id_to_word, top_n=5):\n",
    "    \"\"\"주어진 단어 다음에 올 가능성이 높은 단어들을 예측하는 함수\n",
    "    \n",
    "    Args:\n",
    "        prev_word: 이전 단어\n",
    "        conditional_probabilities: 조건부 확률 행렬\n",
    "        word_to_id: 단어-ID 매핑 딕셔너리\n",
    "        id_to_word: ID-단어 매핑 딕셔너리\n",
    "        top_n: 상위 몇 개의 예측을 반환할지 결정\n",
    "        \n",
    "    Returns:\n",
    "        예측된 단어와 확률의 리스트\n",
    "    \"\"\"\n",
    "    # 단어가 어휘 사전에 없는 경우 처리\n",
    "    if prev_word not in word_to_id:\n",
    "        print(f\"단어 '{prev_word}'를 어휘 사전에서 찾을 수 없습니다.\")\n",
    "        return []\n",
    "    \n",
    "    prev_id = word_to_id[prev_word]\n",
    "    probs = conditional_probabilities[prev_id]\n",
    "    \n",
    "    # 확률이 높은 상위 top_n개 단어 선택\n",
    "    top_indices = np.argsort(probs)[-top_n:][::-1]\n",
    "    \n",
    "    # 예측 결과 생성\n",
    "    predictions = []\n",
    "    for idx in top_indices:\n",
    "        if probs[idx] > 0:  # 확률이 0인 경우 제외\n",
    "            predictions.append((id_to_word[idx], probs[idx]))\n",
    "    \n",
    "    return predictions\n",
    "\n",
    "# 예시: 특정 단어 다음에 올 가능성이 높은 단어 예측\n",
    "example_words = most_common_words[:2]  # 가장 빈번한 단어 2개\n",
    "for word in example_words:\n",
    "    predictions = predict_next_word(word, conditional_probabilities, word_to_id, id_to_word)\n",
    "    print(f\"\\n'{word}' 다음에 올 가능성이 높은 단어:\")\n",
    "    for next_word, prob in predictions:\n",
    "        print(f\"  {next_word}: {prob:.4f}\")"
   ]
  },
  {
   "cell_type": "markdown",
   "metadata": {},
   "source": [
    "## 2.8 결과 저장\n",
    "\n",
    "후속 분석을 위해 n-gram 모델 결과를 저장합니다."
   ]
  },
  {
   "cell_type": "code",
   "execution_count": 17,
   "metadata": {},
   "outputs": [
    {
     "name": "stdout",
     "output_type": "stream",
     "text": [
      "n-gram 모델 결과가 'ngram_results.pkl' 파일에 저장되었습니다.\n"
     ]
    }
   ],
   "source": [
    "# n-gram 모델 결과 저장\n",
    "ngram_results = {\n",
    "    'bigrams': bigrams,\n",
    "    'trigrams': trigrams,\n",
    "    'cooccurrence_matrix': cooccurrence_matrix,\n",
    "    'conditional_probabilities': conditional_probabilities\n",
    "}\n",
    "\n",
    "with open('ngram_results.pkl', 'wb') as f:\n",
    "    pickle.dump(ngram_results, f)\n",
    "\n",
    "print(\"n-gram 모델 결과가 'ngram_results.pkl' 파일에 저장되었습니다.\")"
   ]
  },
  {
   "cell_type": "markdown",
   "metadata": {},
   "source": [
    "## 2.9 요약 및 다음 단계\n",
    "\n",
    "이 노트북에서는 n-gram 기반 통계 언어 모델을 구현했습니다. 주요 단계는 다음과 같습니다:\n",
    "\n",
    "1. n-gram 추출 함수 구현\n",
    "2. 동시출현 행렬(co-occurrence matrix) 구축\n",
    "3. 조건부 확률 $P(w_i | w_{i-1})$ 계산\n",
    "4. 조건부 확률 시각화 및 테이블 표시\n",
    "5. Negative Log Likelihood Loss 구현\n",
    "6. 다음 단어 예측 함수 구현\n",
    "\n",
    "n-gram 모델은 단순하지만 효과적인 통계적 언어 모델입니다. 그러나 어휘 크기가 커지면 희소성 문제가 발생하며, 장거리 의존성을 포착하기 어렵다는 한계가 있습니다.\n",
    "\n",
    "다음 노트북에서는 GloVe 임베딩을 구현하여 이러한 한계를 극복해보겠습니다."
   ]
  },
  {
   "cell_type": "markdown",
   "metadata": {},
   "source": [
    "## 연습문제\n",
    "\n",
    "1. 다양한 n 값(n=1, 2, 3)에 대해 n-gram을 추출하고, 생성된 n-gram 분포를 비교해보세요.\n",
    "→ 단어 조합 다양성 및 빈도 패턴 변화 관찰\n",
    "\n",
    "2. 구축한 동시출현 행렬을 시각화하여 자주 등장하는 단어쌍을 파악해보세요.\n",
    "→ 문맥에서 강하게 연결된 단어쌍 확인\n",
    "\n",
    "3. 조건부 확률 $P(w_i | w_{i-1})$을 기반으로, 주어진 문장에서 다음 단어를 예측해보세요.\n",
    "→ 모델의 확률 기반 추론 능력 확인\n",
    "\n",
    "4. Negative Log Likelihood Loss를 적용하여 문장의 확률을 계산하고, 문장별 품질을 비교해보세요.\n",
    "→ 확률적 언어 모델로서의 성능 평가 연습\n",
    "\n",
    "5. n-gram 모델의 한계(희소성, 장거리 의존성 문제)를 경험할 수 있는 예시 문장을 만들어보세요.\n",
    "→ 다음 단계(GloVe, 신경망 등)로의 필요성 체감"
   ]
  }
 ],
 "metadata": {
  "kernelspec": {
   "display_name": "Python 3",
   "language": "python",
   "name": "python3"
  },
  "language_info": {
   "codemirror_mode": {
    "name": "ipython",
    "version": 3
   },
   "file_extension": ".py",
   "mimetype": "text/x-python",
   "name": "python",
   "nbconvert_exporter": "python",
   "pygments_lexer": "ipython3",
   "version": "3.10.15"
  }
 },
 "nbformat": 4,
 "nbformat_minor": 4
}
