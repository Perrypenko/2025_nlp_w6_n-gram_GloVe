{
 "cells": [
  {
   "cell_type": "markdown",
   "metadata": {},
   "source": [
    "# 1. 말뭉치 전처리 (Corpus Preprocessing)\n",
    "\n",
    "이 노트북에서는 자연어 처리의 기본이 되는 말뭉치(corpus) 전처리 과정을 다룹니다. n-gram 모델과 GloVe 임베딩을 구현하기 위한 기초 작업입니다.\n",
    "\n",
    "## 학습 목표\n",
    "- 텍스트 데이터를 불러오고 전처리하는 방법 익히기\n",
    "- 토큰화(tokenization)와 정제(cleaning) 과정 이해하기\n",
    "- 전처리된 데이터를 후속 분석에 적합한 형태로 저장하기"
   ]
  },
  {
   "cell_type": "code",
   "execution_count": 1,
   "metadata": {},
   "outputs": [
    {
     "name": "stdout",
     "output_type": "stream",
     "text": [
      "Requirement already satisfied: matplotlib in /Users/martin/.asdf/installs/python/3.10.15/lib/python3.10/site-packages (3.10.1)\n",
      "Requirement already satisfied: kiwisolver>=1.3.1 in /Users/martin/.asdf/installs/python/3.10.15/lib/python3.10/site-packages (from matplotlib) (1.4.8)\n",
      "Requirement already satisfied: contourpy>=1.0.1 in /Users/martin/.asdf/installs/python/3.10.15/lib/python3.10/site-packages (from matplotlib) (1.3.1)\n",
      "Requirement already satisfied: python-dateutil>=2.7 in /Users/martin/.asdf/installs/python/3.10.15/lib/python3.10/site-packages (from matplotlib) (2.9.0.post0)\n",
      "Requirement already satisfied: packaging>=20.0 in /Users/martin/.asdf/installs/python/3.10.15/lib/python3.10/site-packages (from matplotlib) (24.2)\n",
      "Requirement already satisfied: numpy>=1.23 in /Users/martin/.asdf/installs/python/3.10.15/lib/python3.10/site-packages (from matplotlib) (2.2.4)\n",
      "Requirement already satisfied: pillow>=8 in /Users/martin/.asdf/installs/python/3.10.15/lib/python3.10/site-packages (from matplotlib) (10.4.0)\n",
      "Requirement already satisfied: pyparsing>=2.3.1 in /Users/martin/.asdf/installs/python/3.10.15/lib/python3.10/site-packages (from matplotlib) (3.2.3)\n",
      "Requirement already satisfied: cycler>=0.10 in /Users/martin/.asdf/installs/python/3.10.15/lib/python3.10/site-packages (from matplotlib) (0.12.1)\n",
      "Requirement already satisfied: fonttools>=4.22.0 in /Users/martin/.asdf/installs/python/3.10.15/lib/python3.10/site-packages (from matplotlib) (4.57.0)\n",
      "Requirement already satisfied: six>=1.5 in /Users/martin/.asdf/installs/python/3.10.15/lib/python3.10/site-packages (from python-dateutil>=2.7->matplotlib) (1.17.0)\n",
      "\u001b[33mWARNING: There was an error checking the latest version of pip.\u001b[0m\u001b[33m\n",
      "\u001b[0m"
     ]
    }
   ],
   "source": [
    "!pip install matplotlib"
   ]
  },
  {
   "cell_type": "code",
   "execution_count": 5,
   "metadata": {},
   "outputs": [],
   "source": [
    "import numpy as np\n",
    "import pandas as pd\n",
    "import matplotlib.pyplot as plt\n",
    "import re\n",
    "import string\n",
    "from collections import Counter, defaultdict\n",
    "\n",
    "# 시각화 설정\n",
    "plt.style.use('ggplot')\n",
    "%matplotlib inline"
   ]
  },
  {
   "cell_type": "markdown",
   "metadata": {},
   "source": [
    "## 1.1 샘플 말뭉치 불러오기\n",
    "\n",
    "먼저 샘플 말뭉치 파일(corpus.txt)을 불러옵니다. 파일이 없는 경우 간단한 샘플 텍스트를 생성합니다."
   ]
  },
  {
   "cell_type": "code",
   "execution_count": 6,
   "metadata": {},
   "outputs": [
    {
     "name": "stdout",
     "output_type": "stream",
     "text": [
      "말뭉치 크기: 371 문자\n",
      "\n",
      "샘플 텍스트:\n",
      "\n",
      "    자연어 처리는 컴퓨터가 인간의 언어를 이해하고 처리하는 기술입니다.\n",
      "    컴퓨터는 자연어 처리를 통해 텍스트를 분석하고 의미를 추출합니다.\n",
      "    인공지능과 기계학습은 자연어 처리의 핵심 기술입니다.\n",
      "    딥러닝 모델은 자연어 처리 성능을 크게 향상시켰습니다.\n",
      "    워드 임베딩은 단어를 벡터 공간에 표현하는 방법입니다.\n",
      "    GloVe와 Word2Vec은 대표적인 워드 임베딩 알고리즘입니다.\n",
      "    언어 모델은 다음 단어를 예측하는 모델입니다.\n",
      "    n-gram은 연속된 n개의 단어 시퀀스를 의미합니다.\n",
      "    자...\n"
     ]
    }
   ],
   "source": [
    "# 샘플 말뭉치 파일 불러오기 (없으면 샘플 생성)\n",
    "try:\n",
    "    with open('corpus.txt', 'r', encoding='utf-8') as f:\n",
    "        corpus = f.read()\n",
    "except FileNotFoundError:\n",
    "    # 샘플 말뭉치 생성\n",
    "    corpus = \"\"\"\n",
    "    자연어 처리는 컴퓨터가 인간의 언어를 이해하고 처리하는 기술입니다.\n",
    "    컴퓨터는 자연어 처리를 통해 텍스트를 분석하고 의미를 추출합니다.\n",
    "    인공지능과 기계학습은 자연어 처리의 핵심 기술입니다.\n",
    "    딥러닝 모델은 자연어 처리 성능을 크게 향상시켰습니다.\n",
    "    워드 임베딩은 단어를 벡터 공간에 표현하는 방법입니다.\n",
    "    GloVe와 Word2Vec은 대표적인 워드 임베딩 알고리즘입니다.\n",
    "    언어 모델은 다음 단어를 예측하는 모델입니다.\n",
    "    n-gram은 연속된 n개의 단어 시퀀스를 의미합니다.\n",
    "    자연어 처리는 기계 번역, 감성 분석, 정보 추출 등에 활용됩니다.\n",
    "    텍스트 전처리는 자연어 처리의 첫 단계입니다.\n",
    "    \"\"\"\n",
    "    \n",
    "    # 샘플 말뭉치 저장\n",
    "    with open('corpus.txt', 'w', encoding='utf-8') as f:\n",
    "        f.write(corpus)\n",
    "\n",
    "print(f\"말뭉치 크기: {len(corpus)} 문자\")\n",
    "print(\"\\n샘플 텍스트:\")\n",
    "print(corpus[:300] + \"...\")"
   ]
  },
  {
   "cell_type": "markdown",
   "metadata": {},
   "source": [
    "## 1.2 텍스트 정제 및 토큰화\n",
    "\n",
    "텍스트 전처리는 다음 단계로 진행합니다:\n",
    "1. 소문자 변환 (영어 텍스트의 경우)\n",
    "2. 문장 분리\n",
    "3. 특수문자 및 불필요한 기호 제거\n",
    "4. 토큰화 (단어 단위로 분리)"
   ]
  },
  {
   "cell_type": "code",
   "execution_count": 7,
   "metadata": {},
   "outputs": [
    {
     "name": "stdout",
     "output_type": "stream",
     "text": [
      "전처리된 문장 수: 10\n",
      "문장 1: ['자연어', '처리는', '컴퓨터가', '인간의', '언어를', '이해하고', '처리하는', '기술입니다']\n",
      "문장 2: ['컴퓨터는', '자연어', '처리를', '통해', '텍스트를', '분석하고', '의미를', '추출합니다']\n",
      "문장 3: ['인공지능과', '기계학습은', '자연어', '처리의', '핵심', '기술입니다']\n"
     ]
    }
   ],
   "source": [
    "def preprocess_text(text):\n",
    "    # 줄바꿈 및 여러 공백 처리\n",
    "    text = re.sub(r'\\s+', ' ', text)\n",
    "    \n",
    "    # 문장 분리 (마침표, 물음표, 느낌표 기준)\n",
    "    sentences = re.split(r'[.!?]\\s', text)\n",
    "    sentences = [s.strip() for s in sentences if s.strip()]\n",
    "    \n",
    "    # 각 문장에서 특수문자 제거 및 토큰화\n",
    "    tokenized_sentences = []\n",
    "    for sentence in sentences:\n",
    "        # 특수문자 제거 (한글, 영문, 숫자, 공백만 유지)\n",
    "        clean_sentence = re.sub(r'[^\\w\\s가-힣]', '', sentence)\n",
    "        # 토큰화 (공백 기준)\n",
    "        tokens = clean_sentence.split()\n",
    "        tokenized_sentences.append(tokens)\n",
    "    \n",
    "    return tokenized_sentences\n",
    "\n",
    "# 전처리 적용\n",
    "tokenized_corpus = preprocess_text(corpus)\n",
    "\n",
    "# 결과 확인\n",
    "print(f\"전처리된 문장 수: {len(tokenized_corpus)}\")\n",
    "for i, sentence in enumerate(tokenized_corpus[:3]):\n",
    "    print(f\"문장 {i+1}: {sentence}\")"
   ]
  },
  {
   "cell_type": "markdown",
   "metadata": {},
   "source": [
    "## 1.3 어휘 사전(Vocabulary) 구축\n",
    "\n",
    "모든 고유 단어를 수집하고, 각 단어에 고유 ID를 할당합니다. 이는 n-gram 모델과 GloVe 임베딩에서 중요한 기초 작업입니다."
   ]
  },
  {
   "cell_type": "code",
   "execution_count": 8,
   "metadata": {},
   "outputs": [
    {
     "name": "stdout",
     "output_type": "stream",
     "text": [
      "어휘 사전 크기: 59 단어\n",
      "\n",
      "가장 빈번한 단어 10개:\n",
      "자연어: 6회\n",
      "처리는: 2회\n",
      "기술입니다: 2회\n",
      "처리의: 2회\n",
      "모델은: 2회\n",
      "워드: 2회\n",
      "단어를: 2회\n",
      "컴퓨터가: 1회\n",
      "인간의: 1회\n",
      "언어를: 1회\n"
     ]
    }
   ],
   "source": [
    "def build_vocabulary(tokenized_sentences):\n",
    "    # 모든 단어 수집\n",
    "    all_words = [word for sentence in tokenized_sentences for word in sentence]\n",
    "    \n",
    "    # 단어 빈도 계산\n",
    "    word_counts = Counter(all_words)\n",
    "    \n",
    "    # 빈도순으로 정렬 (가장 빈번한 것부터)\n",
    "    sorted_words = sorted(word_counts.items(), key=lambda x: x[1], reverse=True)\n",
    "    \n",
    "    # 단어에 ID 할당 (빈도순)\n",
    "    word_to_id = {word: i for i, (word, _) in enumerate(sorted_words)}\n",
    "    id_to_word = {i: word for word, i in word_to_id.items()}\n",
    "    \n",
    "    return word_to_id, id_to_word, word_counts\n",
    "\n",
    "word_to_id, id_to_word, word_counts = build_vocabulary(tokenized_corpus)\n",
    "\n",
    "# 어휘 사전 정보 출력\n",
    "vocab_size = len(word_to_id)\n",
    "print(f\"어휘 사전 크기: {vocab_size} 단어\")\n",
    "print(\"\\n가장 빈번한 단어 10개:\")\n",
    "for word, count in list(word_counts.most_common(10)):\n",
    "    print(f\"{word}: {count}회\")"
   ]
  },
  {
   "cell_type": "markdown",
   "metadata": {},
   "source": [
    "## 1.4 단어 빈도 시각화"
   ]
  },
  {
   "cell_type": "code",
   "execution_count": 11,
   "metadata": {},
   "outputs": [
    {
     "name": "stdout",
     "output_type": "stream",
     "text": [
      "Collecting koreanize_matplotlib\n",
      "  Downloading koreanize_matplotlib-0.1.1-py3-none-any.whl (7.9 MB)\n",
      "\u001b[2K     \u001b[38;2;114;156;31m━━━━━━━━━━━━━━━━━━━━━━━━━━━━━━━━━━━━━━━━\u001b[0m \u001b[32m7.9/7.9 MB\u001b[0m \u001b[31m34.2 MB/s\u001b[0m eta \u001b[36m0:00:00\u001b[0mm eta \u001b[36m0:00:01\u001b[0m0:01\u001b[0m:01\u001b[0m\n",
      "\u001b[?25hRequirement already satisfied: matplotlib in /Users/martin/.asdf/installs/python/3.10.15/lib/python3.10/site-packages (from koreanize_matplotlib) (3.10.1)\n",
      "Requirement already satisfied: pyparsing>=2.3.1 in /Users/martin/.asdf/installs/python/3.10.15/lib/python3.10/site-packages (from matplotlib->koreanize_matplotlib) (3.2.3)\n",
      "Requirement already satisfied: packaging>=20.0 in /Users/martin/.asdf/installs/python/3.10.15/lib/python3.10/site-packages (from matplotlib->koreanize_matplotlib) (24.2)\n",
      "Requirement already satisfied: pillow>=8 in /Users/martin/.asdf/installs/python/3.10.15/lib/python3.10/site-packages (from matplotlib->koreanize_matplotlib) (10.4.0)\n",
      "Requirement already satisfied: kiwisolver>=1.3.1 in /Users/martin/.asdf/installs/python/3.10.15/lib/python3.10/site-packages (from matplotlib->koreanize_matplotlib) (1.4.8)\n",
      "Requirement already satisfied: cycler>=0.10 in /Users/martin/.asdf/installs/python/3.10.15/lib/python3.10/site-packages (from matplotlib->koreanize_matplotlib) (0.12.1)\n",
      "Requirement already satisfied: python-dateutil>=2.7 in /Users/martin/.asdf/installs/python/3.10.15/lib/python3.10/site-packages (from matplotlib->koreanize_matplotlib) (2.9.0.post0)\n",
      "Requirement already satisfied: contourpy>=1.0.1 in /Users/martin/.asdf/installs/python/3.10.15/lib/python3.10/site-packages (from matplotlib->koreanize_matplotlib) (1.3.1)\n",
      "Requirement already satisfied: fonttools>=4.22.0 in /Users/martin/.asdf/installs/python/3.10.15/lib/python3.10/site-packages (from matplotlib->koreanize_matplotlib) (4.57.0)\n",
      "Requirement already satisfied: numpy>=1.23 in /Users/martin/.asdf/installs/python/3.10.15/lib/python3.10/site-packages (from matplotlib->koreanize_matplotlib) (2.2.4)\n",
      "Requirement already satisfied: six>=1.5 in /Users/martin/.asdf/installs/python/3.10.15/lib/python3.10/site-packages (from python-dateutil>=2.7->matplotlib->koreanize_matplotlib) (1.17.0)\n",
      "Installing collected packages: koreanize_matplotlib\n",
      "Successfully installed koreanize_matplotlib-0.1.1\n",
      "\u001b[33mWARNING: There was an error checking the latest version of pip.\u001b[0m\u001b[33m\n",
      "\u001b[0m"
     ]
    }
   ],
   "source": [
    "!pip install koreanize_matplotlib\n",
    "import koreanize_matplotlib\n"
   ]
  },
  {
   "cell_type": "code",
   "execution_count": 12,
   "metadata": {},
   "outputs": [
    {
     "data": {
      "image/png": "[encoded data removed]",
      "text/plain": [
       "<Figure size 1200x600 with 1 Axes>"
      ]
     },
     "metadata": {},
     "output_type": "display_data"
    }
   ],
   "source": [
    "def plot_word_frequency(word_counts, top_n=20):\n",
    "    most_common = word_counts.most_common(top_n)\n",
    "    words, counts = zip(*most_common)\n",
    "    \n",
    "    plt.figure(figsize=(12, 6))\n",
    "    plt.bar(words, counts)\n",
    "    plt.xticks(rotation=45, ha='right')\n",
    "    plt.title(f'Top {top_n} 단어 빈도')\n",
    "    plt.xlabel('단어')\n",
    "    plt.ylabel('빈도')\n",
    "    plt.tight_layout()\n",
    "    plt.show()\n",
    "\n",
    "plot_word_frequency(word_counts)"
   ]
  },
  {
   "cell_type": "markdown",
   "metadata": {},
   "source": [
    "## 1.5 전처리 데이터 저장\n",
    "\n",
    "후속 분석을 위해 전처리된 데이터를 저장합니다."
   ]
  },
  {
   "cell_type": "code",
   "execution_count": 13,
   "metadata": {},
   "outputs": [
    {
     "name": "stdout",
     "output_type": "stream",
     "text": [
      "전처리 결과가 'preprocessing_results.pkl' 파일에 저장되었습니다.\n"
     ]
    }
   ],
   "source": [
    "import pickle\n",
    "\n",
    "# 전처리 결과 저장\n",
    "preprocessing_results = {\n",
    "    'tokenized_corpus': tokenized_corpus,\n",
    "    'word_to_id': word_to_id,\n",
    "    'id_to_word': id_to_word,\n",
    "    'word_counts': word_counts\n",
    "}\n",
    "\n",
    "with open('preprocessing_results.pkl', 'wb') as f:\n",
    "    pickle.dump(preprocessing_results, f)\n",
    "\n",
    "print(\"전처리 결과가 'preprocessing_results.pkl' 파일에 저장되었습니다.\")"
   ]
  },
  {
   "cell_type": "markdown",
   "metadata": {},
   "source": [
    "## 1.6 요약 및 다음 단계\n",
    "\n",
    "이 노트북에서는 텍스트 데이터를 불러와 전처리하고, 어휘 사전을 구축했습니다. 주요 단계는 다음과 같습니다:\n",
    "\n",
    "1. 말뭉치 불러오기\n",
    "2. 텍스트 정제 및 토큰화\n",
    "3. 어휘 사전 구축\n",
    "4. 단어 빈도 시각화\n",
    "5. 전처리 데이터 저장\n",
    "\n",
    "다음 노트북에서는 이 전처리 결과를 활용하여 n-gram 모델을 구현하게 됩니다."
   ]
  },
  {
   "cell_type": "markdown",
   "metadata": {},
   "source": [
    "## 연습 문제\n",
    "\n",
    "1. 현재 전처리 과정에 불용어(stopwords) 제거 기능을 추가해보세요.\n",
    "2. 한국어 형태소 분석기(예: KoNLPy)를 사용하여 토큰화를 개선해보세요.\n",
    "3. 단어 빈도가 지프의 법칙(Zipf's law)을 따르는지 로그-로그 스케일로 시각화해보세요."
   ]
  }
 ],
 "metadata": {
  "kernelspec": {
   "display_name": "Python 3",
   "language": "python",
   "name": "python3"
  },
  "language_info": {
   "codemirror_mode": {
    "name": "ipython",
    "version": 3
   },
   "file_extension": ".py",
   "mimetype": "text/x-python",
   "name": "python",
   "nbconvert_exporter": "python",
   "pygments_lexer": "ipython3",
   "version": "3.10.15"
  }
 },
 "nbformat": 4,
 "nbformat_minor": 4
}
